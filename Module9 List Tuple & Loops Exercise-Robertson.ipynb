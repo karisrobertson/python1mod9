{
 "cells": [
  {
   "cell_type": "markdown",
   "metadata": {},
   "source": [
    "### Exercise 1\n",
    "Ask a user for 5 names and place each one in to a list called <i>names</i>. Then, print <i>names</i>."
   ]
  },
  {
   "cell_type": "code",
   "execution_count": 1,
   "metadata": {},
   "outputs": [
    {
     "name": "stdout",
     "output_type": "stream",
     "text": [
      "Enter Name: j\n",
      "['j']\n",
      "Enter Name: d\n",
      "['j', 'd']\n",
      "Enter Name: j\n",
      "['j', 'd', 'j']\n",
      "Enter Name: d\n",
      "['j', 'd', 'j', 'd']\n",
      "Enter Name: e\n",
      "['j', 'd', 'j', 'd', 'e']\n"
     ]
    }
   ],
   "source": [
    "#name1=[input(\"Please enter name\").title()]\n",
    "#name2=[input(\"Please enter name\").title()]\n",
    "#name3=[input(\"Please enter name\").title()]\n",
    "#name4=[input(\"Please enter name\").title()]\n",
    "#name5=[input(\"Please enter name\").title()]\n",
    "\n",
    "#names=[name1, name2, name3, name4, name5]\n",
    "\n",
    "#print(names)\n",
    "\n",
    "\n",
    "\n",
    "#initialize list \n",
    "names = [] \n",
    "\n",
    "#populate list using for Loop\n",
    "\n",
    "for i in range (0,5) : \n",
    "    name = input (\"Enter Name: \")\n",
    "    names.append(name)\n",
    "\n",
    "    print (names)"
   ]
  },
  {
   "cell_type": "markdown",
   "metadata": {},
   "source": [
    "### Exercise 2\n",
    "Print out a randomly selected name in the names list from exercise 1."
   ]
  },
  {
   "cell_type": "code",
   "execution_count": 2,
   "metadata": {},
   "outputs": [
    {
     "name": "stdout",
     "output_type": "stream",
     "text": [
      "j\n"
     ]
    }
   ],
   "source": [
    "print(names[0])"
   ]
  },
  {
   "cell_type": "markdown",
   "metadata": {},
   "source": [
    "### Exercise 3: \n",
    "Fix bugs in the next cell.  It is trying to create a list for even numbers between two numbers provided by a user.\n"
   ]
  },
  {
   "cell_type": "code",
   "execution_count": 3,
   "metadata": {},
   "outputs": [
    {
     "name": "stdout",
     "output_type": "stream",
     "text": [
      "Enter a starting number: 6\n",
      "Enter an ending number: 10\n",
      "[6, 7, 8, 9]\n",
      "[6, 8]\n"
     ]
    }
   ],
   "source": [
    "no1 = int(input(\"Enter a starting number: \"))\n",
    "no2 = int(input(\"Enter an ending number: \"))\n",
    "\n",
    "numbers = []\n",
    "evens = []\n",
    "\n",
    "for i in range(no1, no2) :\n",
    "    numbers.append(i) \n",
    "    if (i%2 == 0):   # even number\n",
    "        evens.append(i)\n",
    "    \n",
    "print(numbers)    \n",
    "print(evens)"
   ]
  },
  {
   "cell_type": "markdown",
   "metadata": {},
   "source": [
    "### Exercise 4\n",
    "Finish writing a program to generate 10 random numbers between 1 and 100 and save it to a list.\n",
    "Finally, print out the original numbers followed by the smallest, largest, and average number."
   ]
  },
  {
   "cell_type": "code",
   "execution_count": 4,
   "metadata": {},
   "outputs": [
    {
     "name": "stdout",
     "output_type": "stream",
     "text": [
      "Org Numbers are [15, 54, 81, 19, 36, 72, 84, 95, 36, 1]\n",
      "Sorted numbers are [1, 15, 19, 36, 36, 54, 72, 81, 84, 95]\n",
      "Largest number is 95\n",
      "Smallest number is 1\n",
      "Average is 49.3\n"
     ]
    }
   ],
   "source": [
    "import random as rand\n",
    "\n",
    "numbers = []\n",
    "total = 0\n",
    "\n",
    "for i in range(1, 11) :\n",
    "    numb = rand.randint(1, 100)\n",
    "    total += numb\n",
    "    numbers.append(numb)\n",
    "\n",
    "    \n",
    "# some code needed here to find the smallest, largest, and average number\n",
    "\n",
    "org_numbers = numbers.copy() #copying original list and saving as org_numbers- preserves original list as a copy\n",
    "numbers.sort() #sorting original list \n",
    "avg= total / len(numbers) #average = the total divided by the length of the oringinal list \n",
    "largest= numbers[-1] #largest = returns the last number on the original list \n",
    "smallest = numbers[0]\n",
    "\n",
    "\n",
    "\n",
    "print(f\"Org Numbers are {org_numbers}\")\n",
    "print(f\"Sorted numbers are {numbers}\")\n",
    "print(f\"Largest number is {largest}\")\n",
    "print(f\"Smallest number is {smallest}\")\n",
    "print(f\"Average is {avg}\")"
   ]
  },
  {
   "cell_type": "markdown",
   "metadata": {},
   "source": [
    "### Exercise 5\n",
    "\n",
    "Write a function called <b>draw_triangle()</b> to draw a right triangle where the base of the triangle is the number passed in as an arguement. Call <b>draw_triangle()</b> to show it works.\n",
    "\n",
    "e.g. <b>draw_triangle(7)</b> draws as below:\n",
    "\n",
    "    *\n",
    "    **\n",
    "    ***\n",
    "    ****\n",
    "    *****\n",
    "    ******\n",
    "    *******\n"
   ]
  },
  {
   "cell_type": "code",
   "execution_count": 11,
   "metadata": {},
   "outputs": [
    {
     "name": "stdout",
     "output_type": "stream",
     "text": [
      "Enter a number: 7\n"
     ]
    }
   ],
   "source": [
    "# write code for draw_triangle() function\n",
    "\n",
    "base = int(input(\"Enter a number: \"))\n",
    "\n",
    "#subtract1 from length of base everytime until there are 0 stars left \n",
    "\n",
    "\n",
    "def draw_triangle(base):\n",
    "    if base > 0 : \n",
    "        len((base-1)*\"*\")\n",
    "    \n",
    "\n"
   ]
  },
  {
   "cell_type": "code",
   "execution_count": 7,
   "metadata": {},
   "outputs": [
    {
     "name": "stdout",
     "output_type": "stream",
     "text": [
      "Enter a number: 7\n"
     ]
    }
   ],
   "source": [
    "base = int(input(\"Enter a number: \"))\n",
    "\n",
    "draw_triangle(base)"
   ]
  },
  {
   "cell_type": "code",
   "execution_count": null,
   "metadata": {},
   "outputs": [],
   "source": [
    "ROCK, PAPER, SCIZZORS GAME:"
   ]
  },
  {
   "cell_type": "code",
   "execution_count": null,
   "metadata": {},
   "outputs": [],
   "source": [
    "import random as rand \n"
   ]
  },
  {
   "cell_type": "code",
   "execution_count": null,
   "metadata": {},
   "outputs": [],
   "source": [
    "\"Rock\">\"Scizzors\" and \"Rock\"<\"Paper\"\n",
    "\"Paper\">\"Rock\" and \"Paper\"<\"Scizzors\"\n",
    "\"Scizzors\" > \"Paper\" and \"Scizzors\"<\"Rock\"\n",
    "\n",
    "gameconsole = (\"Rock\", \"Paper\", \"Scizzors\")  #pass the input value into the tuple/ can not be changed \n",
    "\n",
    "\n",
    "x = int(input(\"Please Enter a Number: 0=Rock, 1=Paper, 2=Scizzors\"))\n",
    "player1= (gameconsole[x])\n",
    "\n",
    "\n",
    "y = rand.randint(0,2)\n",
    "computer=(gameconsole[y]) \n",
    "   \n",
    "        \n",
    "                                       \n",
    "def my_game(x,y): \n",
    "        \n",
    "        playertotal=0\n",
    "        computertotal=0\n",
    "        count = 1\n",
    "        \n",
    "        while count <= 3:\n",
    "            break \n",
    "            if player1 > computer :\n",
    "                playertotal +=1\n",
    "            print(f\"Your Selection: {x} vs computer selection {y} - You Win!\")\n",
    "           \n",
    "            if computer > player1 :\n",
    "                computertotal +=1\n",
    "            print (f\"Your Selection: {x} vs computer selection: {y} - You Lose\")\n",
    "            \n",
    "            if player1 == computer :\n",
    "                print(f\"Your Selection: {x} vs computer selecrion: {y} - It's a Draw\")\n",
    "    \n",
    "        count+=1\n",
    "       \n",
    "         \n",
    "        \n",
    "        if playertotal > computertotal:\n",
    "            print(f\"Your score is: {playertotal} vs computer score {computertotal} - You Win!\")\n",
    "        elif computertotal > playertotal:\n",
    "            print (f\"Your score is: {playertotal} vs computer score {computertotal} - You Lose\")\n",
    "        else:\n",
    "            playertotal == computertotal\n",
    "            print (f\"Your score is {playertotal} vs computer score {computertotal}-- It's a Draw\")\n",
    "            \n",
    "my_game(player1,computer)\n",
    "                   \n",
    "yes= input(\"Would You Like to Play Again?\")\n",
    "\n",
    "if yes.lower() == yes:\n",
    "    my_game(player1,computer)\n",
    "        \n",
    "        \n"
   ]
  },
  {
   "cell_type": "code",
   "execution_count": null,
   "metadata": {},
   "outputs": [],
   "source": [
    "my_game(player1,computer)"
   ]
  }
 ],
 "metadata": {
  "kernelspec": {
   "display_name": "Python 3 (ipykernel)",
   "language": "python",
   "name": "python3"
  },
  "language_info": {
   "codemirror_mode": {
    "name": "ipython",
    "version": 3
   },
   "file_extension": ".py",
   "mimetype": "text/x-python",
   "name": "python",
   "nbconvert_exporter": "python",
   "pygments_lexer": "ipython3",
   "version": "3.11.5"
  }
 },
 "nbformat": 4,
 "nbformat_minor": 4
}
